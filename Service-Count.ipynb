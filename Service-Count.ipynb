{
 "cells": [
  {
   "cell_type": "markdown",
   "metadata": {},
   "source": [
    "# SCVAS-Count"
   ]
  },
  {
   "cell_type": "markdown",
   "metadata": {},
   "source": [
    "# Description\n",
    "\n",
    "Count day tasks for all four SCVAS count circles  \n",
    "- SAN JOSE CBC (CASJ)\n",
    "- PALO ALTO CBC (CAPA)\n",
    "- CALERO-MORGAN HILL (CACR)\n",
    "- MOUNT HAMILTON (CAMH)"
   ]
  },
  {
   "cell_type": "markdown",
   "metadata": {},
   "source": [
    "Prior to count day, run Service-Parse so that we have single and double column versions of the official checklist\n",
    "for the circle. Confirm that the annotations are correct. Service-Parse looks for files named e.g. \n",
    "CASJ-2020-<otherstuff> that are CSV, Excel or PDF.\n",
    "\n",
    "We don't have a solution this year to the list of ebird names. To work around this, create the filers_matrix first\n",
    "then make the participants list from that."
   ]
  },
  {
   "cell_type": "markdown",
   "metadata": {},
   "source": [
    "# Environment"
   ]
  },
  {
   "cell_type": "code",
   "execution_count": null,
   "metadata": {},
   "outputs": [],
   "source": [
    "import warnings\n",
    "# warnings.simplefilter('always') # 'error' to break\\n\", \\\"always\\\"\n",
    "\n",
    "warnings.filterwarnings(\"ignore\", category=RuntimeWarning, module='geopandas')\n",
    "# /Users/john/.pyenv/versions/py386/lib/python3.8/site-packages/geopandas/geodataframe.py:422: \n",
    "# RuntimeWarning: Sequential read of iterator was interrupted. Resetting iterator. This can negatively \n",
    "# impact the performance. for feature in features_lst:"
   ]
  },
  {
   "cell_type": "markdown",
   "metadata": {},
   "source": [
    "## Library Imports"
   ]
  },
  {
   "cell_type": "code",
   "execution_count": null,
   "metadata": {},
   "outputs": [],
   "source": [
    "import sys\n",
    "sys.path.append('common')\n",
    "sys.path.append('textextractor')\n",
    "sys.path.append('taxonomy')\n",
    "\n",
    "import pandas as pd\n",
    "import numpy as np\n",
    "from pathlib import Path\n",
    "from datetime import datetime\n",
    "import geopandas as gpd"
   ]
  },
  {
   "cell_type": "markdown",
   "metadata": {},
   "source": [
    "## Local Imports"
   ]
  },
  {
   "cell_type": "code",
   "execution_count": null,
   "metadata": {},
   "outputs": [],
   "source": [
    "import common_jupyter\n",
    "\n",
    "# https://medium.com/@rrfd/cookiecutter-data-science-organize-your-projects-atom-and-jupyter-2be7862f487e\n",
    "from common_paths import *\n",
    "\n",
    "from local_translation_context import LocalTranslationContext\n",
    "from taxonomy import Taxonomy\n",
    "from ebird_extras import EBirdExtra\n",
    "from parameters import Parameters\n",
    "\n",
    "from count_day_tasks import summarize_checklists, create_full_circle_summary, get_participants, \\\n",
    "    subids_for_pete_dunten, add_bob_hirt, get_personal_checklist_details\n",
    "\n",
    "from datetime_manipulation import create_count_week\n",
    "from checklist_manipulation import create_checklist_meta\n",
    "\n",
    "from write_final_checklist import write_final_checklist_spreadsheet, excel_columns, \\\n",
    "    sheet_info_for_party_efforts, sheet_info_for_party_details, sheet_info_for_rarities, sheet_info_for_filers\n",
    "from autoparty import sheet_info_for_autoparty, generate_autoparty\n",
    "from locations_map import create_coverage_map, create_potential_duplicates_map\n",
    "from utilities_kml import build_geodata, build_location_data, update_geo_data_with_clustering, build_location_meta\n",
    "from ebird_visits import transform_visits, visits_in_circle\n",
    "from utilities_clustering import generate_cluster_table, plot_elbow_curve\n",
    "from filers_matrix import create_filers_matrix\n",
    "from checklist_manipulation import create_checklist_meta, write_checklist_meta, find_location_near_duplicates\n",
    "from checklist_manipulation import construct_team_details, construct_team_efforts"
   ]
  },
  {
   "cell_type": "markdown",
   "metadata": {},
   "source": [
    "# Code"
   ]
  },
  {
   "cell_type": "code",
   "execution_count": null,
   "metadata": {},
   "outputs": [],
   "source": []
  },
  {
   "cell_type": "markdown",
   "metadata": {},
   "source": [
    "# Initialization"
   ]
  },
  {
   "cell_type": "code",
   "execution_count": null,
   "metadata": {
    "scrolled": false
   },
   "outputs": [],
   "source": [
    "# Initializations\n",
    "print(f'Start : {datetime.now().strftime(\"%Y-%m-%d %H:%M:%S\")}')\n",
    "print('Initializing...')\n",
    "\n",
    "# Overrides - Credentials\n",
    "# See Samples/eBirdCredentials.yml for an example\n",
    "my_credentials_storage_path = Path('/Volumes/TSecure3/other/')\n",
    "eBirdCredential_path = my_credentials_storage_path / 'eBirdCredentials.yml'\n",
    "\n",
    "# -----------------------------------------------------------------------------------------\n",
    "# Override - This will find the correct parameter file out of many in Local folder\n",
    "# -----------------------------------------------------------------------------------------\n",
    "circle_prefix = 'CAPA-2020-'\n",
    "\n",
    "# Parameters\n",
    "parameters = Parameters(local_parameters_path, system_parameters_path, circle_prefix, False)\n",
    "\n",
    "local_translation_context = LocalTranslationContext(local_parameters_path, system_parameters_path)\n",
    "local_translation_context.reload() # DEBUG; allows test/edit cycle without restarting kernel (singleton)\n",
    "\n",
    "# Singletons\n",
    "country = parameters.parameters.get('NationalCode', 'US')\n",
    "ebird_extra = EBirdExtra(eBirdCredential_path, cache_path, country)\n",
    "taxonomy = Taxonomy(cache_path, ebird_extra)\n",
    "\n",
    "# Convenient Parameters\n",
    "circle_code = parameters.parameters.get('CircleAbbrev', 'XXXX')\n",
    "date_of_count = parameters.parameters['CountDate']\n",
    "count_week_start = parameters.parameters.get('CountWeekStart', date_of_count)\n",
    "count_week_end = parameters.parameters.get('CountWeekEnd', date_of_count)\n",
    "region_codes = [xs.strip() for xs in parameters.parameters['eBirdRegion'].split(',')]\n",
    "\n",
    "# Will drop any dates in the future\n",
    "count_week = create_count_week(count_week_start, count_week_end)\n",
    "\n",
    "print('Initialization complete')"
   ]
  },
  {
   "cell_type": "markdown",
   "metadata": {},
   "source": [
    "# Main"
   ]
  },
  {
   "cell_type": "code",
   "execution_count": null,
   "metadata": {
    "scrolled": false
   },
   "outputs": [],
   "source": [
    "if __name__ == '__main__':\n",
    "    create_project_paths()\n",
    "    \n",
    "    count_day_only = True # set to False to process whole count week\n",
    "    \n",
    "    geo_data = build_geodata(parameters)\n",
    "    \n",
    "    # May need bootstrapping\n",
    "    participants = get_participants(circle_prefix)\n",
    "\n",
    "    xdates = [date_of_count] if count_day_only else count_week\n",
    "    visits = ebird_extra.get_visits_for_dates(region_codes, xdates)\n",
    "    print(f'Checklists filed in count circle: {visits.shape[0]}')\n",
    "    visits = transform_visits(visits)\n",
    "    \n",
    "    visits_of_interest = visits_in_circle(participants, geo_data, circle_code, visits)\n",
    "\n",
    "    cluster_table, centers_df = None, None\n",
    "    geo_data, cluster_table, centers_df = generate_cluster_table(visits_of_interest, geo_data, parameters, True)\n",
    "\n",
    "    hotspots, center_pt = ebird_extra.get_hotspots(region_codes)\n",
    "    location_data = build_location_data(hotspots, visits)\n",
    "    \n",
    "    circle_matrix, unique_circle_filers = create_filers_matrix(circle_prefix, visits_of_interest, location_data)\n",
    "        \n",
    "    print('\\n',', '.join(unique_circle_filers))\n",
    "    print('\\n***** ADJUST EBIRDERS IF NECESSARY *****\\n')         "
   ]
  },
  {
   "cell_type": "code",
   "execution_count": null,
   "metadata": {
    "scrolled": false
   },
   "outputs": [],
   "source": [
    "%%time\n",
    "\n",
    "additional_subids = subids_for_pete_dunten(parameters) if circle_code == 'CACR' else None\n",
    "\n",
    "personal_checklists = get_personal_checklist_details(visits_of_interest,\n",
    "                                   xdates, additional_subids,\n",
    "                                   ebird_extra, taxonomy)\n",
    "\n",
    "if circle_code == 'CACR':\n",
    "    personal_checklists = add_bob_hirt(xdates, taxonomy, personal_checklists)\n",
    "\n",
    "# Create some meta data\n",
    "checklist_meta, near_duplicates = create_checklist_meta(personal_checklists, visits_of_interest, location_data)\n",
    "\n",
    "location_meta = build_location_meta(geo_data, personal_checklists, location_data, cluster_table)\n",
    "\n",
    "mm = create_coverage_map(visits_of_interest, parameters, geo_data, centers_df, near_duplicates)"
   ]
  },
  {
   "cell_type": "code",
   "execution_count": null,
   "metadata": {
    "scrolled": false
   },
   "outputs": [],
   "source": [
    "# Service-Parse writes to outputs_path\n",
    "template_path = outputs_path / f'{circle_prefix}Single.xlsx'\n",
    "\n",
    "rarities_df = summarize_checklists(personal_checklists, taxonomy, template_path,\n",
    "                         parameters, checklist_meta, geo_data, location_data, location_meta)\n",
    "\n",
    "print('\\n***** ADJUST SECTOR CHECKLISTS IF NECESSARY *****\\n')"
   ]
  },
  {
   "cell_type": "code",
   "execution_count": null,
   "metadata": {},
   "outputs": [],
   "source": [
    "%%time\n",
    "\n",
    "additional_sheets = [\n",
    "    sheet_info_for_party_efforts(construct_team_efforts(checklist_meta)),\n",
    "    sheet_info_for_party_details(construct_team_details(checklist_meta, location_data)),\n",
    "    sheet_info_for_rarities(rarities_df),\n",
    "    sheet_info_for_filers(circle_matrix),\n",
    "    sheet_info_for_autoparty(generate_autoparty(checklist_meta, location_data))\n",
    "]\n",
    "    \n",
    "summary = create_full_circle_summary(template_path, taxonomy, \n",
    "                                     local_translation_context, parameters, additional_sheets)"
   ]
  },
  {
   "cell_type": "code",
   "execution_count": null,
   "metadata": {},
   "outputs": [],
   "source": [
    "print(f'Done  : {datetime.now().strftime(\"%Y-%m-%d %H:%M:%S\")}')"
   ]
  },
  {
   "cell_type": "code",
   "execution_count": null,
   "metadata": {},
   "outputs": [],
   "source": [
    "1/0"
   ]
  },
  {
   "cell_type": "markdown",
   "metadata": {},
   "source": [
    "# Experiments"
   ]
  },
  {
   "cell_type": "code",
   "execution_count": null,
   "metadata": {},
   "outputs": [],
   "source": []
  }
 ],
 "metadata": {
  "kernelspec": {
   "display_name": "py387",
   "language": "python",
   "name": "py387"
  },
  "language_info": {
   "codemirror_mode": {
    "name": "ipython",
    "version": 3
   },
   "file_extension": ".py",
   "mimetype": "text/x-python",
   "name": "python",
   "nbconvert_exporter": "python",
   "pygments_lexer": "ipython3",
   "version": "3.8.7"
  },
  "toc": {
   "base_numbering": 1,
   "nav_menu": {},
   "number_sections": true,
   "sideBar": true,
   "skip_h1_title": false,
   "title_cell": "Table of Contents",
   "title_sidebar": "Contents",
   "toc_cell": false,
   "toc_position": {},
   "toc_section_display": true,
   "toc_window_display": false
  }
 },
 "nbformat": 4,
 "nbformat_minor": 4
}

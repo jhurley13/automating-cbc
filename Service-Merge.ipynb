{
 "cells": [
  {
   "cell_type": "markdown",
   "metadata": {},
   "source": [
    "# Service-MergeTallySheets"
   ]
  },
  {
   "cell_type": "markdown",
   "metadata": {},
   "source": [
    "# Description\n",
    "Input: Tally sheets with columns for CommonName and Total; may have 2-column layout  \n",
    "Output: Merged Tally sheet with individual input tally sheets listed as Sector 1,2,...n and a Grand Total columns\n",
    "\n",
    "Requirements:  \n",
    "Input files need only have Total and CommonName columns, template also needs Rare column"
   ]
  },
  {
   "cell_type": "markdown",
   "metadata": {},
   "source": [
    "# Environment"
   ]
  },
  {
   "cell_type": "code",
   "execution_count": null,
   "metadata": {},
   "outputs": [],
   "source": [
    "import warnings\n",
    "# warnings.simplefilter('always') # 'error' to break\\n\", \\\"always\\\"\n",
    "\n",
    "warnings.filterwarnings(\"ignore\", category=RuntimeWarning, module='xlrd')"
   ]
  },
  {
   "cell_type": "markdown",
   "metadata": {},
   "source": [
    "## Library Imports"
   ]
  },
  {
   "cell_type": "code",
   "execution_count": null,
   "metadata": {},
   "outputs": [],
   "source": [
    "import sys\n",
    "sys.path.append('common')\n",
    "sys.path.append('textextractor')\n",
    "sys.path.append('taxonomy')\n",
    "\n",
    "import pandas as pd\n",
    "import numpy as np\n",
    "from pathlib import Path\n",
    "from datetime import datetime\n",
    "import re\n",
    "import random"
   ]
  },
  {
   "cell_type": "markdown",
   "metadata": {},
   "source": [
    "## Local Imports"
   ]
  },
  {
   "cell_type": "code",
   "execution_count": null,
   "metadata": {},
   "outputs": [],
   "source": [
    "import common_jupyter\n",
    "from common_paths import base_path, inputs_merge_path, cache_path, create_project_paths, \\\n",
    "    reports_path, raw_data_path, local_parameters_path, system_parameters_path\n",
    "from taxonomy import Taxonomy\n",
    "from local_translation_context import LocalTranslationContext\n",
    "from ebird_extras import EBirdExtra\n",
    "from parameters import Parameters\n",
    "from service_merge import merge_checklists\n",
    "\n",
    "from local_translation_context import LocalTranslationContext\n",
    "from taxonomy import Taxonomy\n",
    "from ebird_extras import EBirdExtra\n",
    "from parameters import Parameters\n",
    "from datetime_manipulation import create_count_week\n",
    "from merge_audubon import merge_audubon_results, extract_circle_info\n",
    "from utilities_cbc import read_excel_or_csv_path\n",
    "from dataframe_to_checklist import dataframe_to_checklist, find_species_in_dataframe, get_species_from_dataframe"
   ]
  },
  {
   "cell_type": "markdown",
   "metadata": {},
   "source": [
    "# Initialization"
   ]
  },
  {
   "cell_type": "code",
   "execution_count": null,
   "metadata": {},
   "outputs": [],
   "source": [
    "# Initializations\n",
    "print(f'Start : {datetime.now().strftime(\"%Y-%m-%d %H:%M:%S\")}')\n",
    "print('Initializing...')\n",
    "\n",
    "create_project_paths()\n",
    "\n",
    "# Overrides - Credentials\n",
    "# See Samples/eBirdCredentials.yml for an example\n",
    "my_credentials_storage_path = Path('/Volumes/TSecure3/other/')\n",
    "eBirdCredential_path = my_credentials_storage_path / 'eBirdCredentials.yml'\n",
    "\n",
    "# -----------------------------------------------------------------------------------------\n",
    "# Override - This will find the correct parameter file out of many in Local folder\n",
    "# -----------------------------------------------------------------------------------------\n",
    "circle_prefix = 'CAPA-2020-'\n",
    "\n",
    "# Parameters\n",
    "parameters = Parameters(local_parameters_path, system_parameters_path, circle_prefix, True)\n",
    "\n",
    "local_translation_context = LocalTranslationContext(local_parameters_path, system_parameters_path)\n",
    "local_translation_context.reload() # DEBUG; allows test/edit cycle without restarting kernel (singleton)\n",
    "\n",
    "# Singletons\n",
    "country = parameters.parameters.get('NationalCode', 'US')\n",
    "ebird_extra = EBirdExtra(eBirdCredential_path, cache_path, country)\n",
    "taxonomy = Taxonomy(cache_path, ebird_extra)\n",
    "\n",
    "# Convenient Parameters\n",
    "circle_code = parameters.parameters.get('CircleAbbrev', 'XXXX')\n",
    "date_of_count = parameters.parameters['CountDate']\n",
    "count_week_start = parameters.parameters.get('CountWeekStart', date_of_count)\n",
    "count_week_end = parameters.parameters.get('CountWeekEnd', date_of_count)\n",
    "region_codes = parameters.parameters['eBirdRegion'].split(',')\n",
    "\n",
    "# Will drop any dates in the future\n",
    "count_week = create_count_week(count_week_start, count_week_end)\n",
    "\n",
    "print('Initialization complete')"
   ]
  },
  {
   "cell_type": "markdown",
   "metadata": {},
   "source": [
    "# Main"
   ]
  },
  {
   "cell_type": "code",
   "execution_count": null,
   "metadata": {
    "scrolled": false
   },
   "outputs": [],
   "source": [
    "if __name__ == '__main__':\n",
    "\n",
    "    results_path = raw_data_path / 'AudubonResults'\n",
    "    summary, cols_to_hide, cols_to_highlight = merge_audubon_results(taxonomy, local_translation_context)\n",
    "    \n",
    "    print('Done')"
   ]
  },
  {
   "cell_type": "code",
   "execution_count": null,
   "metadata": {},
   "outputs": [],
   "source": [
    "1/0"
   ]
  },
  {
   "cell_type": "markdown",
   "metadata": {},
   "source": [
    "# Experiments"
   ]
  },
  {
   "cell_type": "code",
   "execution_count": null,
   "metadata": {},
   "outputs": [],
   "source": []
  }
 ],
 "metadata": {
  "kernelspec": {
   "display_name": "py386",
   "language": "python",
   "name": "py386"
  },
  "language_info": {
   "codemirror_mode": {
    "name": "ipython",
    "version": 3
   },
   "file_extension": ".py",
   "mimetype": "text/x-python",
   "name": "python",
   "nbconvert_exporter": "python",
   "pygments_lexer": "ipython3",
   "version": "3.8.6"
  },
  "toc": {
   "base_numbering": 1,
   "nav_menu": {},
   "number_sections": true,
   "sideBar": true,
   "skip_h1_title": false,
   "title_cell": "Table of Contents",
   "title_sidebar": "Contents",
   "toc_cell": false,
   "toc_position": {},
   "toc_section_display": true,
   "toc_window_display": false
  }
 },
 "nbformat": 4,
 "nbformat_minor": 4
}

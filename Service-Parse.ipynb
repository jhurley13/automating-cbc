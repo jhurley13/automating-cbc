{
 "cells": [
  {
   "cell_type": "markdown",
   "metadata": {},
   "source": [
    "# ParseTallySheets"
   ]
  },
  {
   "cell_type": "markdown",
   "metadata": {},
   "source": [
    "# Description\n",
    "\n",
    "-  Read file\n",
    "- do transformations\n",
    "- outputs:\n",
    " - spacy readout\n",
    " - raw text\n",
    " - unprocessed text\n",
    " - excel spreadsheet, sorted taxonomically -->"
   ]
  },
  {
   "cell_type": "markdown",
   "metadata": {},
   "source": [
    "# Environment"
   ]
  },
  {
   "cell_type": "code",
   "execution_count": null,
   "metadata": {},
   "outputs": [],
   "source": [
    "# import warnings\n",
    "# warnings.simplefilter('always') # 'error' to break\\n\", \\\"always\\\""
   ]
  },
  {
   "cell_type": "markdown",
   "metadata": {},
   "source": [
    "## Library Imports"
   ]
  },
  {
   "cell_type": "code",
   "execution_count": null,
   "metadata": {},
   "outputs": [],
   "source": [
    "import sys\n",
    "sys.path.append('common')\n",
    "sys.path.append('textextractor')\n",
    "sys.path.append('taxonomy')\n",
    "\n",
    "import pandas as pd\n",
    "from pathlib import Path\n",
    "from datetime import datetime\n",
    "import nltk"
   ]
  },
  {
   "cell_type": "markdown",
   "metadata": {},
   "source": [
    "## Local Imports"
   ]
  },
  {
   "cell_type": "code",
   "execution_count": null,
   "metadata": {},
   "outputs": [],
   "source": [
    "import common_jupyter\n",
    "\n",
    "# https://medium.com/@rrfd/cookiecutter-data-science-organize-your-projects-atom-and-jupyter-2be7862f487e\n",
    "from common_paths import base_path, inputs_parse_path, outputs_path, create_project_paths, cache_path\n",
    "\n",
    "# Singletons; must restart kernel if these change\n",
    "from local_translation_context import LocalTranslationContext\n",
    "from taxonomy import Taxonomy\n",
    "from ebird_extras import EBirdExtra\n",
    "from parameters import Parameters\n",
    "\n",
    "from parse_tally_sheets import process_checklists"
   ]
  },
  {
   "cell_type": "markdown",
   "metadata": {},
   "source": [
    "# Initialization"
   ]
  },
  {
   "cell_type": "code",
   "execution_count": null,
   "metadata": {
    "scrolled": true
   },
   "outputs": [],
   "source": [
    "# Initializations\n",
    "print('Initializing...')\n",
    "\n",
    "create_project_paths()\n",
    "\n",
    "# NTLK requires one-time download\n",
    "_ = nltk.download('punkt')\n",
    "\n",
    "# Overrides - Parameters\n",
    "new_local_parameters_path  = base_path / 'parameters' / 'Local'\n",
    "new_system_parameters_path = base_path / 'parameters' / 'System'\n",
    "\n",
    "# Overrides - Credentials\n",
    "# See Samples/eBirdCredentials.yml for an example\n",
    "my_credentials_storage_path = Path('/Volumes/TSecure3/other/')\n",
    "eBirdCredential_path = my_credentials_storage_path / 'eBirdCredentials.yml'\n",
    "\n",
    "# Parameters\n",
    "\n",
    "circle_prefix = 'CAMP-2020-'\n",
    "\n",
    "parameters = Parameters(new_local_parameters_path, new_system_parameters_path, circle_prefix, False)\n",
    "\n",
    "local_translation_context = LocalTranslationContext(new_local_parameters_path, new_system_parameters_path)\n",
    "local_translation_context.reload() # DEBUG; allows test/edit cycle without restarting kernel (singleton)\n",
    "\n",
    "# Singletons\n",
    "country = parameters.parameters.get('NationalCode', 'US')\n",
    "ebird_extra = EBirdExtra(eBirdCredential_path, cache_path, country)\n",
    "taxonomy = Taxonomy(cache_path, ebird_extra)\n",
    "\n",
    "print('Initialization complete')"
   ]
  },
  {
   "cell_type": "markdown",
   "metadata": {},
   "source": [
    "# Main"
   ]
  },
  {
   "cell_type": "code",
   "execution_count": null,
   "metadata": {
    "scrolled": false
   },
   "outputs": [],
   "source": [
    "%%time\n",
    "if __name__ == '__main__':\n",
    "    \n",
    "    print(f'Start : {datetime.now().strftime(\"%Y-%m-%d %H:%M:%S\")}')\n",
    "    \n",
    "    text_list, double_translated, local_checklist = \\\n",
    "        process_checklists(inputs_parse_path, outputs_path,\n",
    "                           taxonomy, local_translation_context, parameters, circle_prefix)\n",
    "    \n",
    "    print(f'Done  : {datetime.now().strftime(\"%Y-%m-%d %H:%M:%S\")}')"
   ]
  },
  {
   "cell_type": "code",
   "execution_count": null,
   "metadata": {},
   "outputs": [],
   "source": [
    "1/0"
   ]
  },
  {
   "cell_type": "markdown",
   "metadata": {},
   "source": [
    "# Experiments"
   ]
  },
  {
   "cell_type": "code",
   "execution_count": null,
   "metadata": {},
   "outputs": [],
   "source": []
  }
 ],
 "metadata": {
  "kernelspec": {
   "display_name": "py387",
   "language": "python",
   "name": "py387"
  },
  "language_info": {
   "codemirror_mode": {
    "name": "ipython",
    "version": 3
   },
   "file_extension": ".py",
   "mimetype": "text/x-python",
   "name": "python",
   "nbconvert_exporter": "python",
   "pygments_lexer": "ipython3",
   "version": "3.8.7"
  },
  "toc": {
   "base_numbering": 1,
   "nav_menu": {},
   "number_sections": true,
   "sideBar": true,
   "skip_h1_title": false,
   "title_cell": "Table of Contents",
   "title_sidebar": "Contents",
   "toc_cell": false,
   "toc_position": {},
   "toc_section_display": true,
   "toc_window_display": false
  }
 },
 "nbformat": 4,
 "nbformat_minor": 4
}

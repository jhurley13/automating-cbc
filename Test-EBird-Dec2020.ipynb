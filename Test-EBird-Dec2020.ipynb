{
 "cells": [
  {
   "cell_type": "markdown",
   "metadata": {},
   "source": [
    "# Test-EBird-Dec2020"
   ]
  },
  {
   "cell_type": "markdown",
   "metadata": {},
   "source": [
    "# Description\n",
    "Examine bulk data from eBird for December 2020\n",
    "\n",
    "https://ebird.org/science/use-ebird-data/download-ebird-data-products  \n",
    "https://ebird.org/data/download  \n"
   ]
  },
  {
   "cell_type": "markdown",
   "metadata": {},
   "source": [
    "# Environment"
   ]
  },
  {
   "cell_type": "markdown",
   "metadata": {},
   "source": [
    "## Library Imports"
   ]
  },
  {
   "cell_type": "code",
   "execution_count": null,
   "metadata": {},
   "outputs": [],
   "source": [
    "import warnings\n",
    "# warnings.simplefilter('always') # 'error' to break\\n\", \\\"always\\\"\n",
    "\n",
    "warnings.filterwarnings(\"ignore\", category=RuntimeWarning, module='geopandas')"
   ]
  },
  {
   "cell_type": "code",
   "execution_count": null,
   "metadata": {},
   "outputs": [],
   "source": [
    "import sys\n",
    "sys.path.append('common')\n",
    "sys.path.append('textextractor')\n",
    "sys.path.append('taxonomy')\n",
    "\n",
    "import pandas as pd\n",
    "import numpy as np\n",
    "from pathlib import Path\n",
    "from datetime import datetime\n",
    "import geopandas as gpd\n",
    "\n",
    "from shapely import geometry\n",
    "from shapely.geometry import Point"
   ]
  },
  {
   "cell_type": "markdown",
   "metadata": {},
   "source": [
    "## Local Imports"
   ]
  },
  {
   "cell_type": "code",
   "execution_count": null,
   "metadata": {},
   "outputs": [],
   "source": [
    "import common_jupyter\n",
    "\n",
    "# https://medium.com/@rrfd/cookiecutter-data-science-organize-your-projects-atom-and-jupyter-2be7862f487e\n",
    "from common_paths import *\n",
    "\n",
    "from local_translation_context import LocalTranslationContext\n",
    "from taxonomy import Taxonomy\n",
    "from ebird_extras import EBirdExtra\n",
    "from parameters import Parameters\n",
    "\n",
    "from ebird_basic_dataset import use_basic_dataset\n",
    "\n",
    "from count_day_tasks import summarize_checklists, create_full_circle_summary, get_participants, \\\n",
    "    subids_for_pete_dunten, add_bob_hirt, get_personal_checklist_details\n",
    "\n",
    "from datetime_manipulation import create_count_week\n",
    "\n",
    "from locations_map import create_coverage_map, create_potential_duplicates_map\n",
    "from utilities_kml import build_geodata, build_location_data, update_geo_data_with_clustering, build_location_meta\n",
    "from ebird_visits import transform_visits, visits_in_circle\n",
    "from checklist_manipulation import create_checklist_meta, write_checklist_meta, find_location_near_duplicates"
   ]
  },
  {
   "cell_type": "markdown",
   "metadata": {},
   "source": [
    "# Code"
   ]
  },
  {
   "cell_type": "code",
   "execution_count": null,
   "metadata": {},
   "outputs": [],
   "source": [
    "def visits_in_circle(ebirders, geo_data, circle_code, visits):\n",
    "    # Also filters by participants\n",
    "    circle_geometry = geo_data[(geo_data.CircleCode == circle_code) &\n",
    "                               (geo_data.type == 'circle')].geometry.values[0]\n",
    "\n",
    "    # Note that by construction, visits only contains data for dates we care about\n",
    "    # so we don't need to filter for that. We pass them to get_details grouped by date though.\n",
    "    mask = [pt.within(circle_geometry) for pt in visits.geometry.values]\n",
    "    if ebirders is not None:\n",
    "        mask &= visits.Name.isin(ebirders)\n",
    "    visits_of_interest = visits[mask].sort_values(by=['locId'])\n",
    "\n",
    "    return visits_of_interest\n"
   ]
  },
  {
   "cell_type": "markdown",
   "metadata": {},
   "source": [
    "# Initializations"
   ]
  },
  {
   "cell_type": "code",
   "execution_count": null,
   "metadata": {},
   "outputs": [],
   "source": [
    "# Initializations\n",
    "print(f'Start : {datetime.now().strftime(\"%Y-%m-%d %H:%M:%S\")}')\n",
    "print('Initializing...')\n",
    "\n",
    "create_project_paths()\n",
    "\n",
    "# Overrides - Credentials\n",
    "# See Samples/eBirdCredentials.yml for an example\n",
    "my_credentials_storage_path = Path('/Volumes/TSecure3/other/')\n",
    "eBirdCredential_path = my_credentials_storage_path / 'eBirdCredentials.yml'\n",
    "\n",
    "# -----------------------------------------------------------------------------------------\n",
    "# Override - This will find the correct parameter file out of many in Local folder\n",
    "# -----------------------------------------------------------------------------------------\n",
    "circle_prefix = 'CACR-2020-'\n",
    "\n",
    "# Parameters\n",
    "parameters = Parameters(local_parameters_path, system_parameters_path, circle_prefix, False)\n",
    "\n",
    "local_translation_context = LocalTranslationContext(local_parameters_path, system_parameters_path)\n",
    "local_translation_context.reload() # DEBUG; allows test/edit cycle without restarting kernel (singleton)\n",
    "\n",
    "# Singletons\n",
    "country = parameters.parameters.get('NationalCode', 'US')\n",
    "ebird_extra = EBirdExtra(eBirdCredential_path, cache_path, country)\n",
    "taxonomy = Taxonomy(cache_path, ebird_extra)\n",
    "\n",
    "# Convenient Parameters\n",
    "circle_code = parameters.parameters.get('CircleAbbrev', 'XXXX')\n",
    "date_of_count = parameters.parameters['CountDate']\n",
    "count_week_start = parameters.parameters.get('CountWeekStart', date_of_count)\n",
    "count_week_end = parameters.parameters.get('CountWeekEnd', date_of_count)\n",
    "region_codes = [xs.strip() for xs in parameters.parameters['eBirdRegion'].split(',')]\n",
    "\n",
    "# Will drop any dates in the future\n",
    "count_week = create_count_week(count_week_start, count_week_end)\n",
    "\n",
    "print('Initialization complete')"
   ]
  },
  {
   "cell_type": "markdown",
   "metadata": {},
   "source": [
    "# Main"
   ]
  },
  {
   "cell_type": "code",
   "execution_count": null,
   "metadata": {},
   "outputs": [],
   "source": [
    "if __name__ == '__main__':\n",
    "\n",
    "    geo_data = build_geodata(parameters)\n",
    "    \n",
    "    # May need bootstrapping\n",
    "    participants = get_participants(circle_prefix)\n",
    "\n",
    "    xdates = [date_of_count] #if count_day_only else count_week\n",
    "    visits = ebird_extra.get_visits_for_dates(region_codes, xdates)\n",
    "    print(f'Checklists filed in count circle: {visits.shape[0]}')\n",
    "    visits = transform_visits(visits)\n",
    "    \n",
    "    # Add bulk data extras here\n",
    "    visits = use_basic_dataset(visits, xdates, region_codes)\n",
    "    print(f'Checklists after basic dataset: {visits.shape[0]}')\n",
    "\n",
    "    visits_of_interest = visits_in_circle(participants, geo_data, circle_code, visits)\n",
    "    visits_of_interest.shape, visits.shape"
   ]
  },
  {
   "cell_type": "code",
   "execution_count": null,
   "metadata": {},
   "outputs": [],
   "source": [
    "1/0"
   ]
  },
  {
   "cell_type": "markdown",
   "metadata": {},
   "source": [
    "# Experiments"
   ]
  },
  {
   "cell_type": "code",
   "execution_count": null,
   "metadata": {},
   "outputs": [],
   "source": []
  }
 ],
 "metadata": {
  "kernelspec": {
   "display_name": "py387",
   "language": "python",
   "name": "py387"
  },
  "language_info": {
   "codemirror_mode": {
    "name": "ipython",
    "version": 3
   },
   "file_extension": ".py",
   "mimetype": "text/x-python",
   "name": "python",
   "nbconvert_exporter": "python",
   "pygments_lexer": "ipython3",
   "version": "3.8.7"
  },
  "toc": {
   "base_numbering": 1,
   "nav_menu": {},
   "number_sections": true,
   "sideBar": true,
   "skip_h1_title": false,
   "title_cell": "Table of Contents",
   "title_sidebar": "Contents",
   "toc_cell": false,
   "toc_position": {},
   "toc_section_display": true,
   "toc_window_display": false
  }
 },
 "nbformat": 4,
 "nbformat_minor": 4
}
